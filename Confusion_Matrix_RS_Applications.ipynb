{
  "nbformat": 4,
  "nbformat_minor": 0,
  "metadata": {
    "colab": {
      "name": "Confusion_Matrix_RS_Applications",
      "provenance": [],
      "collapsed_sections": []
    },
    "kernelspec": {
      "name": "python3",
      "display_name": "Python 3"
    },
    "language_info": {
      "name": "python"
    }
  },
  "cells": [
    {
      "cell_type": "markdown",
      "source": [
        "<h1 p align=\"center\">\n",
        "CONFUSION MATRIX GENERATION FOR REMOTE SENSING APPLICATIONS\n",
        "</p>\n",
        "\n",
        "<h3 p align=\"center\">\n",
        "|| COALMINE FIRE DETECTION | PYTHON | SKLEARN ||\n",
        "</p>"
      ],
      "metadata": {
        "id": "CTxHVHXqVHFM"
      }
    },
    {
      "cell_type": "markdown",
      "source": [
        "This code is a part of a fire detection algorithm developed by Philip et. al. (2022), where the generated and reference fire maps are subjected to comparison. \n",
        "\n",
        "*   **Input Image 1:** From the reference shapefile input file, pixel value corresponding to given latitude and longitude is **read** (Step [7])\n",
        "\n",
        "*   **Input Image 2:** From the input Landsat image, pixel value corresponding to given latitude and longitude is **extracted**   (Step [8])\n",
        "\n",
        "* **Function:** Compares the values retrieved from Input Image 1 and Input Image 2 and generates confusion matrix, \n",
        "which is further used for accuracy assessments (not part of this code).\n",
        "\n",
        "\n"
      ],
      "metadata": {
        "id": "FidzrOfh8OGO"
      }
    },
    {
      "cell_type": "markdown",
      "source": [
        "#####Note: \n",
        "*If you want to compare all the points between the two input images instead of certain points decided by (lat long), you can simply ignore the step where the extraction is performed, and directly read each single pixel value to dataframe.*"
      ],
      "metadata": {
        "id": "pq5qtXjJ-oR6"
      }
    },
    {
      "cell_type": "markdown",
      "source": [
        "---"
      ],
      "metadata": {
        "id": "7yNfD7Bv86fP"
      }
    },
    {
      "cell_type": "markdown",
      "source": [
        "\n",
        "### **Disclaimer:** \n",
        "\n",
        "The below python  based program is intended for educational and informative use only and author(s) does not claim to be an authority. Certain parts of program and the logical  structure are based on multiple references and  author(s) claims no credit and accepts no responsibility for the  correctness, completeness or  quality of the information provided. \n",
        "\n",
        "**Bijo George Philip**\n",
        "\n",
        "Date: 23.06.2022\n",
        "\n"
      ],
      "metadata": {
        "id": "afK9ISe58Tud"
      }
    },
    {
      "cell_type": "markdown",
      "source": [
        "--------"
      ],
      "metadata": {
        "id": "fQ7b8DQP87d-"
      }
    },
    {
      "cell_type": "markdown",
      "source": [
        "> **START OF CODE**"
      ],
      "metadata": {
        "id": "Tf6tN02cH773"
      }
    },
    {
      "cell_type": "markdown",
      "source": [
        "### 1. Setting up Environment"
      ],
      "metadata": {
        "id": "Kj8RIEVTVHNL"
      }
    },
    {
      "cell_type": "code",
      "source": [
        "#Mounting the Google Drive\n",
        "from google.colab import drive\n",
        "drive.mount('/content/drive/')"
      ],
      "metadata": {
        "id": "JVO3Udj36Pg5",
        "colab": {
          "base_uri": "https://localhost:8080/"
        },
        "outputId": "b2c3c521-7c7c-43e0-d297-51e8b62f7060"
      },
      "execution_count": 1,
      "outputs": [
        {
          "output_type": "stream",
          "name": "stdout",
          "text": [
            "Mounted at /content/drive/\n"
          ]
        }
      ]
    },
    {
      "cell_type": "code",
      "source": [
        "#Mounting the workspace\n",
        "%cd /content/drive/MyDrive/workspace"
      ],
      "metadata": {
        "id": "XwwXMJxF6Ruo",
        "colab": {
          "base_uri": "https://localhost:8080/"
        },
        "outputId": "f14fb74b-f31c-418e-e531-b8dbc3809885"
      },
      "execution_count": 2,
      "outputs": [
        {
          "output_type": "stream",
          "name": "stdout",
          "text": [
            "/content/drive/MyDrive/workspace\n"
          ]
        }
      ]
    },
    {
      "cell_type": "code",
      "source": [
        "#Check Python Version\n",
        "!python --version"
      ],
      "metadata": {
        "id": "LHEXMt2XVW6h",
        "colab": {
          "base_uri": "https://localhost:8080/"
        },
        "outputId": "aabb1889-00c3-4215-a594-7a1dcdb9c276"
      },
      "execution_count": 3,
      "outputs": [
        {
          "output_type": "stream",
          "name": "stdout",
          "text": [
            "Python 3.7.13\n"
          ]
        }
      ]
    },
    {
      "cell_type": "code",
      "source": [
        "%%capture\n",
        "#Installing necessary libraries\n",
        "!pip install geopandas\n",
        "!pip install matplotlib\n",
        "!pip install rasterio\n",
        "!pip install beautifultable"
      ],
      "metadata": {
        "id": "3FS_1a7H96b6"
      },
      "execution_count": 4,
      "outputs": []
    },
    {
      "cell_type": "code",
      "source": [
        "# Import necessary libraries\n",
        "import pandas as pd\n",
        "import numpy as np\n",
        "import matplotlib.pyplot as plt\n",
        "from sklearn.svm import SVC\n",
        "from sklearn.metrics import classification_report, confusion_matrix, accuracy_score,ConfusionMatrixDisplay\n",
        "from sklearn.metrics import precision_score,matthews_corrcoef,f1_score,recall_score\n",
        "from beautifultable import BeautifulTable\n",
        "from osgeo import gdal,gdal_array\n",
        "import os\n",
        "import glob\n",
        "import warnings\n",
        "#Import necessary libraries\n",
        "import rasterio\n",
        "import geopandas as gpd\n",
        "\n",
        "# Inline Definitions\n",
        "%matplotlib inline"
      ],
      "metadata": {
        "id": "C4OCcBi1Z-cD"
      },
      "execution_count": 5,
      "outputs": []
    },
    {
      "cell_type": "markdown",
      "source": [
        "### 2. Main Code"
      ],
      "metadata": {
        "id": "WG2G1oJ1VSgK"
      }
    },
    {
      "cell_type": "markdown",
      "source": [
        "#### 2.1 Data Preparation"
      ],
      "metadata": {
        "id": "eYk13ZgmjLys"
      }
    },
    {
      "cell_type": "code",
      "source": [
        "# Open the Landsat 8 Predicted Coalmine Fire Map\n",
        "l8_ref_map_input = rasterio.open('Output_Map.tif')\n",
        "\n",
        "# Print the number of input bands\n",
        "print(\"Number of Bands:\",l8_ref_map_input.count)"
      ],
      "metadata": {
        "colab": {
          "base_uri": "https://localhost:8080/"
        },
        "id": "2JQL5Riy96k4",
        "outputId": "d372c2f4-48ba-4f29-a2ab-c1d80b1c61c1"
      },
      "execution_count": 6,
      "outputs": [
        {
          "output_type": "stream",
          "name": "stdout",
          "text": [
            "Number of Bands: 1\n"
          ]
        }
      ]
    },
    {
      "cell_type": "code",
      "source": [
        "# Read points from Reference (Input) shapefile\n",
        "shp = gpd.read_file('Input_Shapefile/Fire_Pixel_Points.shp')\n",
        "\n",
        "# Create a dataframe and extract the coordinates of the point locations\n",
        "shp_df = shp[['Fire_Pixel','Fire_Sts','Latitude', 'Longitude']]\n",
        "shp_df.index = range(len(shp_df))\n",
        "\n",
        "# Extract Coordinates\n",
        "coords = [(x,y) for x, y in zip(shp_df.Longitude, shp_df.Latitude)]\n",
        "print(coords)"
      ],
      "metadata": {
        "colab": {
          "base_uri": "https://localhost:8080/"
        },
        "id": "8V3xCYfG96nZ",
        "outputId": "e2d0a011-6d2f-4579-de2e-c1cbff137cd9"
      },
      "execution_count": 7,
      "outputs": [
        {
          "output_type": "stream",
          "name": "stdout",
          "text": [
            "[(438433.0096, 2630143.939), (438464.4991, 2630141.201), (438467.9219, 2630115.188), (438439.1706, 2630115.188), (438404.9428, 2630086.437), (438405.6274, 2630055.632), (438367.9769, 2630056.316), (438044.1826, 2630267.502), (438017.485, 2630265.106), (438048.9745, 2630238.75), (438046.9208, 2630203.496), (438014.0622, 2630170.637), (438287.1995, 2630176.113), (437771.7299, 2629634.973), (437779.6023, 2629602.457), (437803.904, 2629723.965), (437901.453, 2629786.944), (438735.2404, 2627205.147), (438738.6632, 2627235.952), (438731.1331, 2627177.765), (433487.4454, 2630295.226), (433515.1699, 2630266.475), (433448.0835, 2630297.964), (433544.2634, 2630269.213), (433487.1031, 2630235.67), (433457.6673, 2630263.052), (433547.0016, 2630201.784), (433516.1967, 2630175.429), (432792.2803, 2630201.1), (432765.5827, 2630203.153), (432793.3071, 2630177.14), (431589.8602, 2632426.586), (431597.0481, 2632389.278), (431624.7725, 2632422.479), (431624.7725, 2632364.634), (433843.0715, 2631646.194), (433843.4138, 2631585.954), (433846.152, 2631620.524), (433876.6146, 2631589.034), (433903.9968, 2631611.967), (443628.7784, 2623092.686), (443588.732, 2623100.216), (443593.5239, 2623038.948), (442935.667, 2623871.024), (434293.5084, 2631405.231), (434269.8912, 2631372.373), (433816.7161, 2631822.638), (440656.785, 2626813.41), (440657.1272, 2626839.766), (438648.9865, 2627444.227), (408826.0263, 2625523.025), (408768.5237, 2625706.486), (408434.4611, 2634044.36), (409127.9148, 2634197.7), (409455.1319, 2633868.258), (408766.2989, 2637434.445), (410986.9938, 2637819.849), (408735.4939, 2614846.884), (409031.5638, 2614788.355), (409276.292, 2613706.758), (408462.3567, 2618622.544), (408470.2291, 2618596.874), (409065.7915, 2619760.787), (409123.9786, 2619836.088), (408553.2313, 2621834.988), (428416.2655, 2613581.998), (428257.4488, 2613797.633), (427572.8943, 2613766.143), (427279.5627, 2614341.854), (427311.0522, 2614335.008), (434264.4148, 2612893.336), (432316.1726, 2615296.123), (431567.9545, 2616555.703), (429463.6339, 2619076.918), (420043.1368, 2623276.66), (415191.0143, 2627834.766), (413775.0132, 2629879.53), (413798.2881, 2629902.121), (413743.5237, 2629912.731), (414016.3187, 2629695.385), (413110.9953, 2630992.274), (412063.6269, 2632817.981), (422599.6056, 2626459.325), (419862.7566, 2635669.407), (438674.3151, 2634858.723), (438678.0801, 2634822.099), (437447.5933, 2635669.578), (446323.8696, 2626788.852), (447763.4878, 2626329.858), (447169.2945, 2630202.383), (447191.7136, 2614514.447), (443385.5904, 2616646.15), (441280.5853, 2617605.211), (436874.4501, 2622796.53), (430783.9684, 2625946.85), (426134.4741, 2630205.121), (428864.1353, 2635752.067), (448214.7804, 2637496.654), (448240.7934, 2637494.943), (418004.7045, 2614966.938)]\n"
          ]
        }
      ]
    },
    {
      "cell_type": "code",
      "source": [
        "# Suppress Warning\n",
        "warnings.simplefilter(\"ignore\")\n",
        "\n",
        "# Sample the raster at every point location and extact predicted fire pixel values in DataFrame\n",
        "shp_df['Fire_Pixel_Predicted'] = [x[0] for x in l8_ref_map_input.sample(coords)]\n"
      ],
      "metadata": {
        "id": "Hk-sNChw96p4"
      },
      "execution_count": 8,
      "outputs": []
    },
    {
      "cell_type": "code",
      "source": [
        "# Print Raw Output Dataframe\n",
        "display(shp_df)"
      ],
      "metadata": {
        "colab": {
          "base_uri": "https://localhost:8080/",
          "height": 423
        },
        "id": "yZVJU-Sz9Sko",
        "outputId": "b249714b-0ea0-4d82-828f-9e21b0652059"
      },
      "execution_count": 9,
      "outputs": [
        {
          "output_type": "display_data",
          "data": {
            "text/plain": [
              "   Fire_Pixel Fire_Sts     Latitude    Longitude  Fire_Pixel_Predicted\n",
              "0     Present        1  2630143.939  438433.0096                     1\n",
              "1     Present        1  2630141.201  438464.4991                     0\n",
              "2     Present        1  2630115.188  438467.9219                     1\n",
              "3     Present        1  2630115.188  438439.1706                     1\n",
              "4     Present        1  2630086.437  438404.9428                     1\n",
              "..        ...      ...          ...          ...                   ...\n",
              "95     Absent        0  2630205.121  426134.4741                     0\n",
              "96     Absent        0  2635752.067  428864.1353                     0\n",
              "97     Absent        0  2637496.654  448214.7804                     1\n",
              "98     Absent        0  2637494.943  448240.7934                     0\n",
              "99     Absent        0  2614966.938  418004.7045                     0\n",
              "\n",
              "[100 rows x 5 columns]"
            ],
            "text/html": [
              "\n",
              "  <div id=\"df-f0953b40-12f4-45e2-8ca1-b5ec4e32e9c6\">\n",
              "    <div class=\"colab-df-container\">\n",
              "      <div>\n",
              "<style scoped>\n",
              "    .dataframe tbody tr th:only-of-type {\n",
              "        vertical-align: middle;\n",
              "    }\n",
              "\n",
              "    .dataframe tbody tr th {\n",
              "        vertical-align: top;\n",
              "    }\n",
              "\n",
              "    .dataframe thead th {\n",
              "        text-align: right;\n",
              "    }\n",
              "</style>\n",
              "<table border=\"1\" class=\"dataframe\">\n",
              "  <thead>\n",
              "    <tr style=\"text-align: right;\">\n",
              "      <th></th>\n",
              "      <th>Fire_Pixel</th>\n",
              "      <th>Fire_Sts</th>\n",
              "      <th>Latitude</th>\n",
              "      <th>Longitude</th>\n",
              "      <th>Fire_Pixel_Predicted</th>\n",
              "    </tr>\n",
              "  </thead>\n",
              "  <tbody>\n",
              "    <tr>\n",
              "      <th>0</th>\n",
              "      <td>Present</td>\n",
              "      <td>1</td>\n",
              "      <td>2630143.939</td>\n",
              "      <td>438433.0096</td>\n",
              "      <td>1</td>\n",
              "    </tr>\n",
              "    <tr>\n",
              "      <th>1</th>\n",
              "      <td>Present</td>\n",
              "      <td>1</td>\n",
              "      <td>2630141.201</td>\n",
              "      <td>438464.4991</td>\n",
              "      <td>0</td>\n",
              "    </tr>\n",
              "    <tr>\n",
              "      <th>2</th>\n",
              "      <td>Present</td>\n",
              "      <td>1</td>\n",
              "      <td>2630115.188</td>\n",
              "      <td>438467.9219</td>\n",
              "      <td>1</td>\n",
              "    </tr>\n",
              "    <tr>\n",
              "      <th>3</th>\n",
              "      <td>Present</td>\n",
              "      <td>1</td>\n",
              "      <td>2630115.188</td>\n",
              "      <td>438439.1706</td>\n",
              "      <td>1</td>\n",
              "    </tr>\n",
              "    <tr>\n",
              "      <th>4</th>\n",
              "      <td>Present</td>\n",
              "      <td>1</td>\n",
              "      <td>2630086.437</td>\n",
              "      <td>438404.9428</td>\n",
              "      <td>1</td>\n",
              "    </tr>\n",
              "    <tr>\n",
              "      <th>...</th>\n",
              "      <td>...</td>\n",
              "      <td>...</td>\n",
              "      <td>...</td>\n",
              "      <td>...</td>\n",
              "      <td>...</td>\n",
              "    </tr>\n",
              "    <tr>\n",
              "      <th>95</th>\n",
              "      <td>Absent</td>\n",
              "      <td>0</td>\n",
              "      <td>2630205.121</td>\n",
              "      <td>426134.4741</td>\n",
              "      <td>0</td>\n",
              "    </tr>\n",
              "    <tr>\n",
              "      <th>96</th>\n",
              "      <td>Absent</td>\n",
              "      <td>0</td>\n",
              "      <td>2635752.067</td>\n",
              "      <td>428864.1353</td>\n",
              "      <td>0</td>\n",
              "    </tr>\n",
              "    <tr>\n",
              "      <th>97</th>\n",
              "      <td>Absent</td>\n",
              "      <td>0</td>\n",
              "      <td>2637496.654</td>\n",
              "      <td>448214.7804</td>\n",
              "      <td>1</td>\n",
              "    </tr>\n",
              "    <tr>\n",
              "      <th>98</th>\n",
              "      <td>Absent</td>\n",
              "      <td>0</td>\n",
              "      <td>2637494.943</td>\n",
              "      <td>448240.7934</td>\n",
              "      <td>0</td>\n",
              "    </tr>\n",
              "    <tr>\n",
              "      <th>99</th>\n",
              "      <td>Absent</td>\n",
              "      <td>0</td>\n",
              "      <td>2614966.938</td>\n",
              "      <td>418004.7045</td>\n",
              "      <td>0</td>\n",
              "    </tr>\n",
              "  </tbody>\n",
              "</table>\n",
              "<p>100 rows × 5 columns</p>\n",
              "</div>\n",
              "      <button class=\"colab-df-convert\" onclick=\"convertToInteractive('df-f0953b40-12f4-45e2-8ca1-b5ec4e32e9c6')\"\n",
              "              title=\"Convert this dataframe to an interactive table.\"\n",
              "              style=\"display:none;\">\n",
              "        \n",
              "  <svg xmlns=\"http://www.w3.org/2000/svg\" height=\"24px\"viewBox=\"0 0 24 24\"\n",
              "       width=\"24px\">\n",
              "    <path d=\"M0 0h24v24H0V0z\" fill=\"none\"/>\n",
              "    <path d=\"M18.56 5.44l.94 2.06.94-2.06 2.06-.94-2.06-.94-.94-2.06-.94 2.06-2.06.94zm-11 1L8.5 8.5l.94-2.06 2.06-.94-2.06-.94L8.5 2.5l-.94 2.06-2.06.94zm10 10l.94 2.06.94-2.06 2.06-.94-2.06-.94-.94-2.06-.94 2.06-2.06.94z\"/><path d=\"M17.41 7.96l-1.37-1.37c-.4-.4-.92-.59-1.43-.59-.52 0-1.04.2-1.43.59L10.3 9.45l-7.72 7.72c-.78.78-.78 2.05 0 2.83L4 21.41c.39.39.9.59 1.41.59.51 0 1.02-.2 1.41-.59l7.78-7.78 2.81-2.81c.8-.78.8-2.07 0-2.86zM5.41 20L4 18.59l7.72-7.72 1.47 1.35L5.41 20z\"/>\n",
              "  </svg>\n",
              "      </button>\n",
              "      \n",
              "  <style>\n",
              "    .colab-df-container {\n",
              "      display:flex;\n",
              "      flex-wrap:wrap;\n",
              "      gap: 12px;\n",
              "    }\n",
              "\n",
              "    .colab-df-convert {\n",
              "      background-color: #E8F0FE;\n",
              "      border: none;\n",
              "      border-radius: 50%;\n",
              "      cursor: pointer;\n",
              "      display: none;\n",
              "      fill: #1967D2;\n",
              "      height: 32px;\n",
              "      padding: 0 0 0 0;\n",
              "      width: 32px;\n",
              "    }\n",
              "\n",
              "    .colab-df-convert:hover {\n",
              "      background-color: #E2EBFA;\n",
              "      box-shadow: 0px 1px 2px rgba(60, 64, 67, 0.3), 0px 1px 3px 1px rgba(60, 64, 67, 0.15);\n",
              "      fill: #174EA6;\n",
              "    }\n",
              "\n",
              "    [theme=dark] .colab-df-convert {\n",
              "      background-color: #3B4455;\n",
              "      fill: #D2E3FC;\n",
              "    }\n",
              "\n",
              "    [theme=dark] .colab-df-convert:hover {\n",
              "      background-color: #434B5C;\n",
              "      box-shadow: 0px 1px 3px 1px rgba(0, 0, 0, 0.15);\n",
              "      filter: drop-shadow(0px 1px 2px rgba(0, 0, 0, 0.3));\n",
              "      fill: #FFFFFF;\n",
              "    }\n",
              "  </style>\n",
              "\n",
              "      <script>\n",
              "        const buttonEl =\n",
              "          document.querySelector('#df-f0953b40-12f4-45e2-8ca1-b5ec4e32e9c6 button.colab-df-convert');\n",
              "        buttonEl.style.display =\n",
              "          google.colab.kernel.accessAllowed ? 'block' : 'none';\n",
              "\n",
              "        async function convertToInteractive(key) {\n",
              "          const element = document.querySelector('#df-f0953b40-12f4-45e2-8ca1-b5ec4e32e9c6');\n",
              "          const dataTable =\n",
              "            await google.colab.kernel.invokeFunction('convertToInteractive',\n",
              "                                                     [key], {});\n",
              "          if (!dataTable) return;\n",
              "\n",
              "          const docLinkHtml = 'Like what you see? Visit the ' +\n",
              "            '<a target=\"_blank\" href=https://colab.research.google.com/notebooks/data_table.ipynb>data table notebook</a>'\n",
              "            + ' to learn more about interactive tables.';\n",
              "          element.innerHTML = '';\n",
              "          dataTable['output_type'] = 'display_data';\n",
              "          await google.colab.output.renderOutput(dataTable, element);\n",
              "          const docLink = document.createElement('div');\n",
              "          docLink.innerHTML = docLinkHtml;\n",
              "          element.appendChild(docLink);\n",
              "        }\n",
              "      </script>\n",
              "    </div>\n",
              "  </div>\n",
              "  "
            ]
          },
          "metadata": {}
        }
      ]
    },
    {
      "cell_type": "code",
      "source": [
        "# Prepare the Final Dataframe for Comparison\n",
        "df_final = pd.DataFrame(shp_df, columns=['Fire_Sts','Fire_Pixel_Predicted'])\n",
        "\n",
        "# Rename Columns and Print Output\n",
        "df_final.rename(columns = {'Fire_Sts':'Fire_Pixel_Reference'}, inplace = True)\n",
        "display(df_final)"
      ],
      "metadata": {
        "colab": {
          "base_uri": "https://localhost:8080/",
          "height": 423
        },
        "id": "iolJ08JEEz0S",
        "outputId": "689304ca-3834-4d70-cc59-ff286ec026a0"
      },
      "execution_count": 10,
      "outputs": [
        {
          "output_type": "display_data",
          "data": {
            "text/plain": [
              "   Fire_Pixel_Reference  Fire_Pixel_Predicted\n",
              "0                     1                     1\n",
              "1                     1                     0\n",
              "2                     1                     1\n",
              "3                     1                     1\n",
              "4                     1                     1\n",
              "..                  ...                   ...\n",
              "95                    0                     0\n",
              "96                    0                     0\n",
              "97                    0                     1\n",
              "98                    0                     0\n",
              "99                    0                     0\n",
              "\n",
              "[100 rows x 2 columns]"
            ],
            "text/html": [
              "\n",
              "  <div id=\"df-3505269a-0703-4ea1-a177-2ffb55bad904\">\n",
              "    <div class=\"colab-df-container\">\n",
              "      <div>\n",
              "<style scoped>\n",
              "    .dataframe tbody tr th:only-of-type {\n",
              "        vertical-align: middle;\n",
              "    }\n",
              "\n",
              "    .dataframe tbody tr th {\n",
              "        vertical-align: top;\n",
              "    }\n",
              "\n",
              "    .dataframe thead th {\n",
              "        text-align: right;\n",
              "    }\n",
              "</style>\n",
              "<table border=\"1\" class=\"dataframe\">\n",
              "  <thead>\n",
              "    <tr style=\"text-align: right;\">\n",
              "      <th></th>\n",
              "      <th>Fire_Pixel_Reference</th>\n",
              "      <th>Fire_Pixel_Predicted</th>\n",
              "    </tr>\n",
              "  </thead>\n",
              "  <tbody>\n",
              "    <tr>\n",
              "      <th>0</th>\n",
              "      <td>1</td>\n",
              "      <td>1</td>\n",
              "    </tr>\n",
              "    <tr>\n",
              "      <th>1</th>\n",
              "      <td>1</td>\n",
              "      <td>0</td>\n",
              "    </tr>\n",
              "    <tr>\n",
              "      <th>2</th>\n",
              "      <td>1</td>\n",
              "      <td>1</td>\n",
              "    </tr>\n",
              "    <tr>\n",
              "      <th>3</th>\n",
              "      <td>1</td>\n",
              "      <td>1</td>\n",
              "    </tr>\n",
              "    <tr>\n",
              "      <th>4</th>\n",
              "      <td>1</td>\n",
              "      <td>1</td>\n",
              "    </tr>\n",
              "    <tr>\n",
              "      <th>...</th>\n",
              "      <td>...</td>\n",
              "      <td>...</td>\n",
              "    </tr>\n",
              "    <tr>\n",
              "      <th>95</th>\n",
              "      <td>0</td>\n",
              "      <td>0</td>\n",
              "    </tr>\n",
              "    <tr>\n",
              "      <th>96</th>\n",
              "      <td>0</td>\n",
              "      <td>0</td>\n",
              "    </tr>\n",
              "    <tr>\n",
              "      <th>97</th>\n",
              "      <td>0</td>\n",
              "      <td>1</td>\n",
              "    </tr>\n",
              "    <tr>\n",
              "      <th>98</th>\n",
              "      <td>0</td>\n",
              "      <td>0</td>\n",
              "    </tr>\n",
              "    <tr>\n",
              "      <th>99</th>\n",
              "      <td>0</td>\n",
              "      <td>0</td>\n",
              "    </tr>\n",
              "  </tbody>\n",
              "</table>\n",
              "<p>100 rows × 2 columns</p>\n",
              "</div>\n",
              "      <button class=\"colab-df-convert\" onclick=\"convertToInteractive('df-3505269a-0703-4ea1-a177-2ffb55bad904')\"\n",
              "              title=\"Convert this dataframe to an interactive table.\"\n",
              "              style=\"display:none;\">\n",
              "        \n",
              "  <svg xmlns=\"http://www.w3.org/2000/svg\" height=\"24px\"viewBox=\"0 0 24 24\"\n",
              "       width=\"24px\">\n",
              "    <path d=\"M0 0h24v24H0V0z\" fill=\"none\"/>\n",
              "    <path d=\"M18.56 5.44l.94 2.06.94-2.06 2.06-.94-2.06-.94-.94-2.06-.94 2.06-2.06.94zm-11 1L8.5 8.5l.94-2.06 2.06-.94-2.06-.94L8.5 2.5l-.94 2.06-2.06.94zm10 10l.94 2.06.94-2.06 2.06-.94-2.06-.94-.94-2.06-.94 2.06-2.06.94z\"/><path d=\"M17.41 7.96l-1.37-1.37c-.4-.4-.92-.59-1.43-.59-.52 0-1.04.2-1.43.59L10.3 9.45l-7.72 7.72c-.78.78-.78 2.05 0 2.83L4 21.41c.39.39.9.59 1.41.59.51 0 1.02-.2 1.41-.59l7.78-7.78 2.81-2.81c.8-.78.8-2.07 0-2.86zM5.41 20L4 18.59l7.72-7.72 1.47 1.35L5.41 20z\"/>\n",
              "  </svg>\n",
              "      </button>\n",
              "      \n",
              "  <style>\n",
              "    .colab-df-container {\n",
              "      display:flex;\n",
              "      flex-wrap:wrap;\n",
              "      gap: 12px;\n",
              "    }\n",
              "\n",
              "    .colab-df-convert {\n",
              "      background-color: #E8F0FE;\n",
              "      border: none;\n",
              "      border-radius: 50%;\n",
              "      cursor: pointer;\n",
              "      display: none;\n",
              "      fill: #1967D2;\n",
              "      height: 32px;\n",
              "      padding: 0 0 0 0;\n",
              "      width: 32px;\n",
              "    }\n",
              "\n",
              "    .colab-df-convert:hover {\n",
              "      background-color: #E2EBFA;\n",
              "      box-shadow: 0px 1px 2px rgba(60, 64, 67, 0.3), 0px 1px 3px 1px rgba(60, 64, 67, 0.15);\n",
              "      fill: #174EA6;\n",
              "    }\n",
              "\n",
              "    [theme=dark] .colab-df-convert {\n",
              "      background-color: #3B4455;\n",
              "      fill: #D2E3FC;\n",
              "    }\n",
              "\n",
              "    [theme=dark] .colab-df-convert:hover {\n",
              "      background-color: #434B5C;\n",
              "      box-shadow: 0px 1px 3px 1px rgba(0, 0, 0, 0.15);\n",
              "      filter: drop-shadow(0px 1px 2px rgba(0, 0, 0, 0.3));\n",
              "      fill: #FFFFFF;\n",
              "    }\n",
              "  </style>\n",
              "\n",
              "      <script>\n",
              "        const buttonEl =\n",
              "          document.querySelector('#df-3505269a-0703-4ea1-a177-2ffb55bad904 button.colab-df-convert');\n",
              "        buttonEl.style.display =\n",
              "          google.colab.kernel.accessAllowed ? 'block' : 'none';\n",
              "\n",
              "        async function convertToInteractive(key) {\n",
              "          const element = document.querySelector('#df-3505269a-0703-4ea1-a177-2ffb55bad904');\n",
              "          const dataTable =\n",
              "            await google.colab.kernel.invokeFunction('convertToInteractive',\n",
              "                                                     [key], {});\n",
              "          if (!dataTable) return;\n",
              "\n",
              "          const docLinkHtml = 'Like what you see? Visit the ' +\n",
              "            '<a target=\"_blank\" href=https://colab.research.google.com/notebooks/data_table.ipynb>data table notebook</a>'\n",
              "            + ' to learn more about interactive tables.';\n",
              "          element.innerHTML = '';\n",
              "          dataTable['output_type'] = 'display_data';\n",
              "          await google.colab.output.renderOutput(dataTable, element);\n",
              "          const docLink = document.createElement('div');\n",
              "          docLink.innerHTML = docLinkHtml;\n",
              "          element.appendChild(docLink);\n",
              "        }\n",
              "      </script>\n",
              "    </div>\n",
              "  </div>\n",
              "  "
            ]
          },
          "metadata": {}
        }
      ]
    },
    {
      "cell_type": "markdown",
      "source": [
        "#### 2.2 Confusion Matrix Generation"
      ],
      "metadata": {
        "id": "sFlM4FGAjJ4d"
      }
    },
    {
      "cell_type": "markdown",
      "source": [
        "**NOTE:**\n",
        "\n",
        "The confusion matrix generates four values based on its combinations as below:\n",
        "*   **True Positive (TP):** Samples that are actually positive, and correctly classified as positive.\n",
        "\n",
        "*   **True Negative (TN):** Samples that are actually negative, and correctly classified as negative.\n",
        "\n",
        "*   **False Positive (FP):** Samples that are actually negative, but incorrectly classified as positive.\n",
        "\n",
        "*   **False Negative (FN):** Samples that are actually positive, but incorrectly classified as negative."
      ],
      "metadata": {
        "id": "7MzI1ZTq7TID"
      }
    },
    {
      "cell_type": "code",
      "source": [
        "# Generate Simple Confusion matrix\n",
        "cm_simple = pd.crosstab(df_final['Fire_Pixel_Reference'], df_final['Fire_Pixel_Predicted'], rownames=['Actual'], colnames=['Predicted'])\n",
        "print (cm_simple)"
      ],
      "metadata": {
        "id": "FNqNH02RGDv_",
        "colab": {
          "base_uri": "https://localhost:8080/"
        },
        "outputId": "1a475b7b-95f5-482f-d683-47450b512994"
      },
      "execution_count": 11,
      "outputs": [
        {
          "output_type": "stream",
          "name": "stdout",
          "text": [
            "Predicted   0   1\n",
            "Actual           \n",
            "0          48   2\n",
            "1           2  48\n"
          ]
        }
      ]
    },
    {
      "cell_type": "code",
      "source": [
        "# Convert Dataframe Values to numpy array for ref\n",
        "ref = df_final['Fire_Pixel_Reference'].to_numpy()\n",
        "#Convert string array to int array\n",
        "ref = ref.astype(np.uint8)\n",
        "\n",
        "# Convert Dataframe Values to numpy array for pred\n",
        "pred = df_final['Fire_Pixel_Predicted'].to_numpy()"
      ],
      "metadata": {
        "id": "D0jHlD0pV2Jm"
      },
      "execution_count": 12,
      "outputs": []
    },
    {
      "cell_type": "code",
      "source": [
        "# Generate Confusion Matrix\n",
        "print(\"Confusion Matrix:\")\n",
        "cf_matrix = confusion_matrix(ref,pred)\n",
        "print(cf_matrix)\n",
        "print(\"\\nAccuracy(%):\\n\",accuracy_score(ref,pred)*100)\n",
        "print(\"\\nClassification Report:\\n\")\n",
        "print(classification_report(ref,pred))"
      ],
      "metadata": {
        "colab": {
          "base_uri": "https://localhost:8080/"
        },
        "id": "FAORhlgEjmYi",
        "outputId": "8f617c19-7db0-434f-f0b2-e81ecbbd4e11"
      },
      "execution_count": 13,
      "outputs": [
        {
          "output_type": "stream",
          "name": "stdout",
          "text": [
            "Confusion Matrix:\n",
            "[[48  2]\n",
            " [ 2 48]]\n",
            "\n",
            "Accuracy(%):\n",
            " 96.0\n",
            "\n",
            "Classification Report:\n",
            "\n",
            "              precision    recall  f1-score   support\n",
            "\n",
            "           0       0.96      0.96      0.96        50\n",
            "           1       0.96      0.96      0.96        50\n",
            "\n",
            "    accuracy                           0.96       100\n",
            "   macro avg       0.96      0.96      0.96       100\n",
            "weighted avg       0.96      0.96      0.96       100\n",
            "\n"
          ]
        }
      ]
    },
    {
      "cell_type": "markdown",
      "source": [
        "#### 2.3 Display Confusion Matrix"
      ],
      "metadata": {
        "id": "ea4pWsGN7lCy"
      }
    },
    {
      "cell_type": "code",
      "source": [
        "# Display Confusion Matrix\n",
        "import seaborn as sns\n",
        "group_names = ['True Neg','False Pos','False Neg','True Pos']\n",
        "group_counts = [\"{0:0.0f}\".format(value) for value in\n",
        "                cf_matrix.flatten()]\n",
        "group_percentages = [\"{0:.2%}\".format(value) for value in\n",
        "                     cf_matrix.flatten()/np.sum(cf_matrix)]\n",
        "labels = [f\"{v1}\\n{v2}\\n{v3}\" for v1, v2, v3 in\n",
        "          zip(group_names,group_counts,group_percentages)]\n",
        "labels = np.asarray(labels).reshape(2,2)\n",
        "cf_pretty = sns.heatmap(cf_matrix, annot=labels, fmt='', cmap='YlGnBu')\n",
        "cf_pretty.set_xlabel('Predicted', fontsize=12)\n",
        "cf_pretty.set_ylabel('Actual', fontsize=12)\n",
        "cf_pretty.set_title('Confusion Matrix', pad=20, fontsize=14, horizontalalignment='center')\n",
        "display(cf_pretty)"
      ],
      "metadata": {
        "colab": {
          "base_uri": "https://localhost:8080/",
          "height": 331
        },
        "id": "9m0hmmgwkl0l",
        "outputId": "f0ea992b-d6f1-4051-f9e9-a660b8b382f2"
      },
      "execution_count": 14,
      "outputs": [
        {
          "output_type": "display_data",
          "data": {
            "text/plain": [
              "<matplotlib.axes._subplots.AxesSubplot at 0x7f318981ab90>"
            ]
          },
          "metadata": {}
        },
        {
          "output_type": "display_data",
          "data": {
            "text/plain": [
              "<Figure size 432x288 with 2 Axes>"
            ],
            "image/png": "[encoded data removed]"
          },
          "metadata": {
            "needs_background": "light"
          }
        }
      ]
    },
    {
      "cell_type": "markdown",
      "source": [
        "> **END OF CODE**"
      ],
      "metadata": {
        "id": "A_y2-ZQjIMeW"
      }
    },
    {
      "cell_type": "markdown",
      "source": [
        "----"
      ],
      "metadata": {
        "id": "UNEPqIsukmu-"
      }
    }
  ]
}